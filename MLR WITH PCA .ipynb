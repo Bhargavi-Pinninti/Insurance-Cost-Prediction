{
 "cells": [
  {
   "cell_type": "code",
   "execution_count": 2,
   "id": "64101a97",
   "metadata": {},
   "outputs": [],
   "source": [
    "#importing important libraries\n",
    "import pandas as pd\n",
    "import numpy as np\n",
    "import seaborn as sns\n",
    "from sklearn import linear_model\n",
    "from sklearn.model_selection import train_test_split\n",
    "import matplotlib.pyplot as plt"
   ]
  },
  {
   "cell_type": "code",
   "execution_count": 3,
   "id": "767e7199",
   "metadata": {},
   "outputs": [],
   "source": [
    "data=pd.read_csv(\"insurance.csv\")"
   ]
  },
  {
   "cell_type": "code",
   "execution_count": 4,
   "id": "5062784e",
   "metadata": {},
   "outputs": [
    {
     "data": {
      "text/plain": [
       "<AxesSubplot:>"
      ]
     },
     "execution_count": 4,
     "metadata": {},
     "output_type": "execute_result"
    },
    {
     "data": {
      "image/png": "[encoded data removed]",
      "text/plain": [
       "<Figure size 432x288 with 2 Axes>"
      ]
     },
     "metadata": {
      "needs_background": "light"
     },
     "output_type": "display_data"
    }
   ],
   "source": [
    "sns.heatmap(data.corr())"
   ]
  },
  {
   "cell_type": "code",
   "execution_count": 5,
   "id": "c2fa848f",
   "metadata": {},
   "outputs": [
    {
     "data": {
      "text/plain": [
       "male      676\n",
       "female    662\n",
       "Name: sex, dtype: int64"
      ]
     },
     "execution_count": 5,
     "metadata": {},
     "output_type": "execute_result"
    }
   ],
   "source": [
    "data['sex'].value_counts()"
   ]
  },
  {
   "cell_type": "code",
   "execution_count": 6,
   "id": "0a9c13e2",
   "metadata": {},
   "outputs": [
    {
     "data": {
      "text/plain": [
       "no     1064\n",
       "yes     274\n",
       "Name: smoker, dtype: int64"
      ]
     },
     "execution_count": 6,
     "metadata": {},
     "output_type": "execute_result"
    }
   ],
   "source": [
    "data['smoker'].value_counts()"
   ]
  },
  {
   "cell_type": "code",
   "execution_count": 7,
   "id": "61127c35",
   "metadata": {},
   "outputs": [
    {
     "name": "stdout",
     "output_type": "stream",
     "text": [
      "[[19 'female' 27.9 0 'yes' 'southwest']\n",
      " [18 'male' 33.77 1 'no' 'southeast']\n",
      " [28 'male' 33.0 3 'no' 'southeast']\n",
      " ...\n",
      " [18 'female' 36.85 0 'no' 'southeast']\n",
      " [21 'female' 25.8 0 'no' 'southwest']\n",
      " [61 'female' 29.07 0 'yes' 'northwest']]\n",
      "[16884.924   1725.5523  4449.462  ...  1629.8335  2007.945  29141.3603]\n"
     ]
    }
   ],
   "source": [
    "x = data.iloc[:,:-1].values\n",
    "y = data.iloc[:,-1].values\n",
    "y_conc = y.copy()\n",
    "\n",
    "print(x)\n",
    "print(y)"
   ]
  },
  {
   "cell_type": "code",
   "execution_count": 8,
   "id": "11a90547",
   "metadata": {},
   "outputs": [
    {
     "name": "stdout",
     "output_type": "stream",
     "text": [
      "[0 1 1 ... 0 0 0]\n",
      "[1 0 0 ... 0 0 1]\n",
      "[3 2 2 ... 2 3 1]\n",
      "<bound method DataFrame.to_string of        0  1       2  3  4  5\n",
      "0     19  0    27.9  0  1  3\n",
      "1     18  1   33.77  1  0  2\n",
      "2     28  1    33.0  3  0  2\n",
      "3     33  1  22.705  0  0  1\n",
      "4     32  1   28.88  0  0  1\n",
      "...   .. ..     ... .. .. ..\n",
      "1333  50  1   30.97  3  0  1\n",
      "1334  18  0   31.92  0  0  0\n",
      "1335  18  0   36.85  0  0  2\n",
      "1336  21  0    25.8  0  0  3\n",
      "1337  61  0   29.07  0  1  1\n",
      "\n",
      "[1338 rows x 6 columns]>\n",
      "[16884.924   1725.5523  4449.462  ...  1629.8335  2007.945  29141.3603]\n"
     ]
    }
   ],
   "source": [
    "from sklearn.preprocessing import LabelEncoder\n",
    "\n",
    "labelencoder = LabelEncoder()\n",
    "\n",
    "x[:, 1] = labelencoder.fit_transform(x[:, 1])\n",
    "x[:, 4] = labelencoder.fit_transform(x[:, 4])\n",
    "x[:, 5] = labelencoder.fit_transform(x[:, 5])\n",
    "print(x[:, 1])\n",
    "print(x[:, 4])\n",
    "print(x[:, 5])\n",
    "# print(x)\n",
    "df1 = pd.DataFrame(x)\n",
    "print(df1.to_string)\n",
    "print(y)"
   ]
  },
  {
   "cell_type": "code",
   "execution_count": 9,
   "id": "0fb1e8d3",
   "metadata": {},
   "outputs": [
    {
     "data": {
      "text/html": [
       "<div>\n",
       "<style scoped>\n",
       "    .dataframe tbody tr th:only-of-type {\n",
       "        vertical-align: middle;\n",
       "    }\n",
       "\n",
       "    .dataframe tbody tr th {\n",
       "        vertical-align: top;\n",
       "    }\n",
       "\n",
       "    .dataframe thead th {\n",
       "        text-align: right;\n",
       "    }\n",
       "</style>\n",
       "<table border=\"1\" class=\"dataframe\">\n",
       "  <thead>\n",
       "    <tr style=\"text-align: right;\">\n",
       "      <th></th>\n",
       "      <th>age</th>\n",
       "      <th>sex</th>\n",
       "      <th>bmi</th>\n",
       "      <th>children</th>\n",
       "      <th>smoker</th>\n",
       "      <th>region</th>\n",
       "      <th>charges</th>\n",
       "    </tr>\n",
       "  </thead>\n",
       "  <tbody>\n",
       "    <tr>\n",
       "      <th>0</th>\n",
       "      <td>19</td>\n",
       "      <td>female</td>\n",
       "      <td>27.900</td>\n",
       "      <td>0</td>\n",
       "      <td>yes</td>\n",
       "      <td>southwest</td>\n",
       "      <td>16884.92400</td>\n",
       "    </tr>\n",
       "    <tr>\n",
       "      <th>1</th>\n",
       "      <td>18</td>\n",
       "      <td>male</td>\n",
       "      <td>33.770</td>\n",
       "      <td>1</td>\n",
       "      <td>no</td>\n",
       "      <td>southeast</td>\n",
       "      <td>1725.55230</td>\n",
       "    </tr>\n",
       "    <tr>\n",
       "      <th>2</th>\n",
       "      <td>28</td>\n",
       "      <td>male</td>\n",
       "      <td>33.000</td>\n",
       "      <td>3</td>\n",
       "      <td>no</td>\n",
       "      <td>southeast</td>\n",
       "      <td>4449.46200</td>\n",
       "    </tr>\n",
       "    <tr>\n",
       "      <th>3</th>\n",
       "      <td>33</td>\n",
       "      <td>male</td>\n",
       "      <td>22.705</td>\n",
       "      <td>0</td>\n",
       "      <td>no</td>\n",
       "      <td>northwest</td>\n",
       "      <td>21984.47061</td>\n",
       "    </tr>\n",
       "    <tr>\n",
       "      <th>4</th>\n",
       "      <td>32</td>\n",
       "      <td>male</td>\n",
       "      <td>28.880</td>\n",
       "      <td>0</td>\n",
       "      <td>no</td>\n",
       "      <td>northwest</td>\n",
       "      <td>3866.85520</td>\n",
       "    </tr>\n",
       "  </tbody>\n",
       "</table>\n",
       "</div>"
      ],
      "text/plain": [
       "   age     sex     bmi  children smoker     region      charges\n",
       "0   19  female  27.900         0    yes  southwest  16884.92400\n",
       "1   18    male  33.770         1     no  southeast   1725.55230\n",
       "2   28    male  33.000         3     no  southeast   4449.46200\n",
       "3   33    male  22.705         0     no  northwest  21984.47061\n",
       "4   32    male  28.880         0     no  northwest   3866.85520"
      ]
     },
     "execution_count": 9,
     "metadata": {},
     "output_type": "execute_result"
    }
   ],
   "source": [
    "data.head()"
   ]
  },
  {
   "cell_type": "code",
   "execution_count": 10,
   "id": "5d333861",
   "metadata": {},
   "outputs": [],
   "source": [
    "from sklearn.preprocessing import StandardScaler\n",
    "sc = StandardScaler()\n",
    "reg=linear_model.LinearRegression()\n",
    "X_train, X_test, Y_train, Y_test = train_test_split(x, y, test_size=0.3, random_state=101)\n",
    "X_train = sc.fit_transform(X_train)\n",
    "X_test = sc.fit_transform(X_test)\n",
    "# print(X_test)"
   ]
  },
  {
   "cell_type": "code",
   "execution_count": 11,
   "id": "aeed65d5",
   "metadata": {},
   "outputs": [
    {
     "data": {
      "text/plain": [
       "LinearRegression()"
      ]
     },
     "execution_count": 11,
     "metadata": {},
     "output_type": "execute_result"
    }
   ],
   "source": [
    "reg.fit(X_train,Y_train)"
   ]
  },
  {
   "cell_type": "code",
   "execution_count": 12,
   "id": "fa0efe86",
   "metadata": {},
   "outputs": [],
   "source": [
    "predictions = reg.predict(X_test)"
   ]
  },
  {
   "cell_type": "code",
   "execution_count": 13,
   "id": "de059a8f",
   "metadata": {},
   "outputs": [
    {
     "data": {
      "text/plain": [
       "<matplotlib.collections.PathCollection at 0x1fe79611940>"
      ]
     },
     "execution_count": 13,
     "metadata": {},
     "output_type": "execute_result"
    },
    {
     "data": {
      "image/png": "[encoded data removed]",
      "text/plain": [
       "<Figure size 432x288 with 1 Axes>"
      ]
     },
     "metadata": {
      "needs_background": "light"
     },
     "output_type": "display_data"
    }
   ],
   "source": [
    "plt.scatter(Y_test,predictions)"
   ]
  },
  {
   "cell_type": "code",
   "execution_count": 14,
   "id": "60f87e3a",
   "metadata": {},
   "outputs": [],
   "source": [
    "from sklearn import metrics"
   ]
  },
  {
   "cell_type": "code",
   "execution_count": 15,
   "id": "b98fc1db",
   "metadata": {},
   "outputs": [
    {
     "name": "stdout",
     "output_type": "stream",
     "text": [
      "MAE: 4069.011586946191\n",
      "MSE: 33764390.33773839\n",
      "RMSE: 5810.713410394492\n"
     ]
    }
   ],
   "source": [
    "print('MAE:', metrics.mean_absolute_error(Y_test, predictions))\n",
    "print('MSE:', metrics.mean_squared_error(Y_test, predictions))\n",
    "print('RMSE:', np.sqrt(metrics.mean_squared_error(Y_test, predictions)))"
   ]
  },
  {
   "cell_type": "code",
   "execution_count": 16,
   "id": "d800efac",
   "metadata": {},
   "outputs": [
    {
     "name": "stdout",
     "output_type": "stream",
     "text": [
      "       0  1       2  3  4  5\n",
      "0     19  0    27.9  0  1  3\n",
      "1     18  1   33.77  1  0  2\n",
      "2     28  1    33.0  3  0  2\n",
      "3     33  1  22.705  0  0  1\n",
      "4     32  1   28.88  0  0  1\n",
      "...   .. ..     ... .. .. ..\n",
      "1333  50  1   30.97  3  0  1\n",
      "1334  18  0   31.92  0  0  0\n",
      "1335  18  0   36.85  0  0  2\n",
      "1336  21  0    25.8  0  0  3\n",
      "1337  61  0   29.07  0  1  1\n",
      "\n",
      "[1338 rows x 6 columns]\n",
      "[0.20060309 0.1813664  0.16992314 0.16087702 0.15399424]\n",
      "86.67638980741741\n",
      "(1338, 6)\n",
      "(1338, 5)\n",
      "TRAINING PREDICTION SCORE : 0.7366969327839583\n",
      "TESTING PREDICTION SCORE  : 0.7993609962127467\n"
     ]
    },
    {
     "data": {
      "image/png": "[encoded data removed]",
      "text/plain": [
       "<Figure size 432x288 with 1 Axes>"
      ]
     },
     "metadata": {
      "needs_background": "light"
     },
     "output_type": "display_data"
    },
    {
     "name": "stdout",
     "output_type": "stream",
     "text": [
      "RMSE-RANDOM FOREST : 5650.46 (square-rooted)\n",
      "R2-RANDOM FOREST   : 0.80\n",
      "MSE-RANDOM FOREST  : 31927677.11 \n"
     ]
    }
   ],
   "source": [
    "from sklearn.preprocessing import StandardScaler\n",
    "from sklearn.decomposition import PCA\n",
    "import matplotlib.pyplot as plt\n",
    "from sklearn.metrics import mean_squared_error, r2_score\n",
    "import math\n",
    "\n",
    "#standardizing the feature\n",
    "standardized = StandardScaler()\n",
    "print(df1)\n",
    "scaled_data = standardized.fit_transform(df1)\n",
    "#determining the principal components\n",
    "pca = PCA(n_components=5)\n",
    "#feature reduction\n",
    "pca.fit(scaled_data)\n",
    "x_pca = pca.transform(scaled_data)\n",
    "#variance\n",
    "ev = pca.explained_variance_ratio_\n",
    "print(ev)\n",
    "#visualization\n",
    "print(sum(ev*100))\n",
    "print(scaled_data.shape)\n",
    "print(x_pca.shape)\n",
    "#data model selection\n",
    "x_data = x_pca\n",
    "y_data = y\n",
    "X_train,X_test,Y_train,Y_test = train_test_split(x_data,y_data,test_size=0.2,\n",
    "                                                 random_state=0)\n",
    "reg.fit(X_train,Y_train)\n",
    "temp=reg.predict(X_test)\n",
    "reg.score(X_test, Y_test)\n",
    "print(\"TRAINING PREDICTION SCORE :\",reg.score(X_train, Y_train))\n",
    "print(\"TESTING PREDICTION SCORE  :\",reg.score(X_test, Y_test))\n",
    "fig, ax = plt.subplots()\n",
    "ax.plot([0,1],[0,1], transform=ax.transAxes)\n",
    "plt.scatter(temp, Y_test,c = '#F85518')\n",
    "plt.xlabel(\"Predicted Values\")\n",
    "plt.ylabel(\"Actual Values\")\n",
    "plt.title(\"Evaluation\")\n",
    "plt.show()\n",
    "# Evaluate prediction model using MSE\n",
    "rf_mse = mean_squared_error(Y_test, temp)\n",
    "print('RMSE-RANDOM FOREST : %.2f (square-rooted)' % math.sqrt(rf_mse))\n",
    "# Evaluate prediction model using R2-Score\n",
    "rf_r2 = r2_score(Y_test, temp)\n",
    "print('R2-RANDOM FOREST   : %.2f' % rf_r2)\n",
    "# Evaluate prediction model using MSE\n",
    "rf_mse = mean_squared_error(Y_test, temp)\n",
    "print('MSE-RANDOM FOREST  : %.2f ' % (rf_mse))"
   ]
  },
  {
   "cell_type": "code",
   "execution_count": null,
   "id": "fcb3384a",
   "metadata": {},
   "outputs": [],
   "source": []
  }
 ],
 "metadata": {
  "kernelspec": {
   "display_name": "Python 3",
   "language": "python",
   "name": "python3"
  },
  "language_info": {
   "codemirror_mode": {
    "name": "ipython",
    "version": 3
   },
   "file_extension": ".py",
   "mimetype": "text/x-python",
   "name": "python",
   "nbconvert_exporter": "python",
   "pygments_lexer": "ipython3",
   "version": "3.8.10"
  }
 },
 "nbformat": 4,
 "nbformat_minor": 5
}
